{
 "cells": [
  {
   "cell_type": "code",
   "execution_count": null,
   "metadata": {
    "colab": {
     "base_uri": "https://localhost:8080/"
    },
    "executionInfo": {
     "elapsed": 1716,
     "status": "ok",
     "timestamp": 1682120708580,
     "user": {
      "displayName": "Mohamad Kanso",
      "userId": "06164785567516127542"
     },
     "user_tz": -60
    },
    "id": "xWWJhAFE0YMp",
    "outputId": "237e39f1-e145-45ce-91d2-8f4836c9b958"
   },
   "outputs": [
    {
     "name": "stdout",
     "output_type": "stream",
     "text": [
      "Drive already mounted at /content/drive/; to attempt to forcibly remount, call drive.mount(\"/content/drive/\", force_remount=True).\n"
     ]
    }
   ],
   "source": [
    "from google.colab import drive\n",
    "drive.mount('/content/drive/')"
   ]
  },
  {
   "cell_type": "code",
   "execution_count": null,
   "metadata": {
    "id": "Zvx9HgQf0cw6"
   },
   "outputs": [],
   "source": [
    "import numpy as np\n",
    "import pandas as pd\n",
    "import matplotlib.pyplot as plt\n",
    "import cv2\n",
    "import os\n",
    "\n",
    "from sklearn.model_selection import train_test_split\n",
    "from sklearn.metrics import accuracy_score, precision_score, recall_score, f1_score, confusion_matrix\n",
    "from sklearn.svm import SVC\n",
    "from sklearn.neural_network import MLPClassifier\n",
    "from sklearn.pipeline import make_pipeline\n",
    "from sklearn.preprocessing import StandardScaler\n",
    "from skimage.feature import hog\n",
    "\n",
    "import torch\n",
    "import torch.nn as nn\n",
    "import torch.optim as optim\n",
    "from torch.utils.data import DataLoader, Dataset\n",
    "import torchvision.transforms as transforms\n",
    "\n",
    "from PIL import Image"
   ]
  },
  {
   "cell_type": "code",
   "execution_count": null,
   "metadata": {
    "colab": {
     "base_uri": "https://localhost:8080/"
    },
    "executionInfo": {
     "elapsed": 23348,
     "status": "ok",
     "timestamp": 1682120734917,
     "user": {
      "displayName": "Mohamad Kanso",
      "userId": "06164785567516127542"
     },
     "user_tz": -60
    },
    "id": "yLwjDf5t0eKq",
    "outputId": "7f4ecaaa-f0be-4926-b71c-90dc86b8556d"
   },
   "outputs": [
    {
     "name": "stdout",
     "output_type": "stream",
     "text": [
      "Number of training images:  2394\n",
      "Number of training labels:  2394\n",
      "Number of testing images:  458\n",
      "Number of testing labels:  458\n",
      "Shape of X_train:  (2394, 224, 224, 3)\n",
      "Shape of y_train:  (2394,)\n",
      "Shape of X_test:  (458, 224, 224, 3)\n",
      "Shape of y_test:  (458,)\n",
      "Number of training images:  2394\n",
      "Number of training labels:  2394\n",
      "Number of testing images:  458\n",
      "Number of testing labels:  458\n"
     ]
    }
   ],
   "source": [
    "#8 MIN TO RUN\n",
    "def load_data():\n",
    "    # Load training images and labels\n",
    "    train_images = []\n",
    "    train_labels = []\n",
    "    train_dir = '/content/drive/MyDrive/CW_Folder_UG/CW_Dataset/train/images'\n",
    "    train_label_file = '/content/drive/MyDrive/CW_Folder_UG/CW_Dataset/train/labels'\n",
    "    for filename in os.listdir(train_dir):\n",
    "        img = Image.open(os.path.join(train_dir, filename))\n",
    "        img = img.resize((224, 224)) # Resize to a common size\n",
    "        img_arr = np.array(img)\n",
    "        train_images.append(img_arr)\n",
    "        \n",
    "        label_filename = os.path.splitext(filename)[0] + '.txt'\n",
    "        label_file_path = os.path.join(train_label_file, label_filename)\n",
    "        with open(label_file_path, 'r') as f:\n",
    "            text = f.read().strip()\n",
    "            # Map \"no_mask\" to 0, \"mask\" to 1, and \"improper_mask\" to 2\n",
    "            if text == \"1\":\n",
    "                label = 1\n",
    "            elif text == \"0\":\n",
    "                label = 0\n",
    "            elif text == \"2\":\n",
    "                label = 2\n",
    "            train_labels.append(label)\n",
    "\n",
    "    # Load testing images and labels\n",
    "    test_images = []\n",
    "    test_labels = []\n",
    "    test_dir = '/content/drive/MyDrive/CW_Folder_UG/CW_Dataset/test/images'\n",
    "    test_label_dir = '/content/drive/MyDrive/CW_Folder_UG/CW_Dataset/test/labels'\n",
    "    for filename in os.listdir(test_dir):\n",
    "        img = Image.open(os.path.join(test_dir, filename))\n",
    "        img = img.resize((224, 224)) # Resize to a common size\n",
    "        img_arr = np.array(img)\n",
    "        test_images.append(img_arr)\n",
    "        \n",
    "        label_filename = os.path.splitext(filename)[0] + '.txt'\n",
    "        label_file_path = os.path.join(test_label_dir, label_filename)\n",
    "        with open(label_file_path, 'r') as f:\n",
    "            text = f.read().strip()\n",
    "            # Map \"no_mask\" to 0, \"mask\" to 1, and \"improper_mask\" to 2\n",
    "            if text == \"1\":\n",
    "                label = 1\n",
    "            elif text == \"0\":\n",
    "                label = 0\n",
    "            elif text == \"2\":\n",
    "                label = 2\n",
    "            test_labels.append(label)\n",
    "\n",
    "    # Convert the lists to numpy arrays\n",
    "    train_images = np.array(train_images)\n",
    "    train_labels = np.array(train_labels)\n",
    "    test_images = np.array(test_images)\n",
    "    test_labels = np.array(test_labels)\n",
    "    \n",
    "    return train_images, test_images, train_labels, test_labels\n",
    "\n",
    "# Load the dataset\n",
    "X_train, X_test, y_train, y_test = load_data()\n",
    "\n",
    "print(\"Number of training images: \", len(X_train))\n",
    "print(\"Number of training labels: \", len(y_train))\n",
    "print(\"Number of testing images: \", len(X_test))\n",
    "print(\"Number of testing labels: \", len(y_test))\n",
    "\n",
    "print(\"Shape of X_train: \", X_train.shape)\n",
    "print(\"Shape of y_train: \", y_train.shape)\n",
    "print(\"Shape of X_test: \", X_test.shape)\n",
    "print(\"Shape of y_test: \", y_test.shape)\n",
    "\n",
    "# Print information about the dataset\n",
    "print(\"Number of training images: \", X_train.shape[0])\n",
    "print(\"Number of training labels: \", y_train.shape[0])\n",
    "print(\"Number of testing images: \", X_test.shape[0])\n",
    "print(\"Number of testing labels: \", y_test.shape[0])"
   ]
  },
  {
   "cell_type": "code",
   "execution_count": null,
   "metadata": {
    "colab": {
     "base_uri": "https://localhost:8080/"
    },
    "executionInfo": {
     "elapsed": 106176,
     "status": "ok",
     "timestamp": 1682121389209,
     "user": {
      "displayName": "Mohamad Kanso",
      "userId": "06164785567516127542"
     },
     "user_tz": -60
    },
    "id": "GUE_SkQO0jSG",
    "outputId": "ba99682d-1a51-45c9-eb26-e6d26164bb27"
   },
   "outputs": [
    {
     "name": "stderr",
     "output_type": "stream",
     "text": [
      "<ipython-input-11-b9bed56d2adc>:11: FutureWarning: `multichannel` is a deprecated argument name for `hog`. It will be removed in version 1.0. Please use `channel_axis` instead.\n",
      "  hog_feature = hog(img, orientations=9, pixels_per_cell=(8, 8), cells_per_block=(3, 3), visualize=False, multichannel=True, channel_axis=2)\n",
      "<ipython-input-11-b9bed56d2adc>:17: FutureWarning: `multichannel` is a deprecated argument name for `hog`. It will be removed in version 1.0. Please use `channel_axis` instead.\n",
      "  hog_feature = hog(img, orientations=9, pixels_per_cell=(8, 8), cells_per_block=(3, 3), visualize=False, multichannel=True, channel_axis=2)\n"
     ]
    },
    {
     "name": "stdout",
     "output_type": "stream",
     "text": [
      "Accuracy:  0.8777292576419214\n",
      "Classification Report:\n",
      "\n",
      "              precision    recall  f1-score   support\n",
      "\n",
      "           0       0.65      0.43      0.52        51\n",
      "           1       0.90      0.97      0.93       388\n",
      "           2       1.00      0.11      0.19        19\n",
      "\n",
      "    accuracy                           0.88       458\n",
      "   macro avg       0.85      0.50      0.55       458\n",
      "weighted avg       0.87      0.88      0.86       458\n",
      "\n",
      "Confusion Matrix:\n",
      "\n",
      "[[ 22  29   0]\n",
      " [ 10 378   0]\n",
      " [  2  15   2]]\n"
     ]
    }
   ],
   "source": [
    "#Around 1 min\n",
    "import numpy as np\n",
    "from skimage.feature import hog\n",
    "from sklearn.neighbors import KNeighborsClassifier\n",
    "from sklearn.metrics import accuracy_score, classification_report, confusion_matrix\n",
    "from sklearn.model_selection import GridSearchCV\n",
    "\n",
    "# Extract HOG features from training data\n",
    "hog_train = []\n",
    "for img in X_train:\n",
    "    hog_feature = hog(img, orientations=9, pixels_per_cell=(8, 8), cells_per_block=(3, 3), visualize=False, multichannel=True, channel_axis=2)\n",
    "    hog_train.append(hog_feature)\n",
    "\n",
    "# Extract HOG features from test data\n",
    "hog_test = []\n",
    "for img in X_test:\n",
    "    hog_feature = hog(img, orientations=9, pixels_per_cell=(8, 8), cells_per_block=(3, 3), visualize=False, multichannel=True, channel_axis=2)\n",
    "    hog_test.append(hog_feature)\n",
    "    \n",
    "\n",
    "# Train KNN classifier with best k value\n",
    "clf_knn = KNeighborsClassifier(n_neighbors=5)\n",
    "clf_knn.fit(hog_train, y_train)\n",
    "\n",
    "# Predict on test data\n",
    "y_pred = clf_knn.predict(hog_test)\n",
    "\n",
    "# Evaluate accuracy\n",
    "accuracy = accuracy_score(y_test, y_pred)\n",
    "print(\"Accuracy: \", accuracy)\n",
    "\n",
    "# Print f1score, precision, and recall\n",
    "print(\"Classification Report:\\n\")\n",
    "print(classification_report(y_test, y_pred))\n",
    "\n",
    "# Print confusion matrix\n",
    "print(\"Confusion Matrix:\\n\")\n",
    "print(confusion_matrix(y_test, y_pred))"
   ]
  },
  {
   "cell_type": "code",
   "execution_count": null,
   "metadata": {
    "colab": {
     "base_uri": "https://localhost:8080/"
    },
    "executionInfo": {
     "elapsed": 5388,
     "status": "ok",
     "timestamp": 1682121426714,
     "user": {
      "displayName": "Mohamad Kanso",
      "userId": "06164785567516127542"
     },
     "user_tz": -60
    },
    "id": "SHJNpQ7n0nt_",
    "outputId": "39f14101-624a-4eff-ab48-cfd40e7ed718"
   },
   "outputs": [
    {
     "data": {
      "text/plain": [
       "['/content/drive/MyDrive/CW_Folder_UG/Models/hog-knn.joblib']"
      ]
     },
     "execution_count": 12,
     "metadata": {},
     "output_type": "execute_result"
    }
   ],
   "source": [
    "import joblib\n",
    "import os\n",
    "\n",
    "# Define directory path to save the joblib file\n",
    "directory = '/content/drive/MyDrive/CW_Folder_UG/Models'\n",
    "\n",
    "# Create directory if it doesn't exist\n",
    "if not os.path.exists(directory):\n",
    "    os.makedirs(directory)\n",
    "\n",
    "# Define file path to save the joblib file\n",
    "filepath = os.path.join(directory, 'hog-knn.joblib')\n",
    "\n",
    "# Dump the object to the joblib file\n",
    "joblib.dump(clf_knn, filepath)"
   ]
  },
  {
   "cell_type": "code",
   "execution_count": null,
   "metadata": {
    "colab": {
     "base_uri": "https://localhost:8080/"
    },
    "executionInfo": {
     "elapsed": 3761,
     "status": "ok",
     "timestamp": 1682121431720,
     "user": {
      "displayName": "Mohamad Kanso",
      "userId": "06164785567516127542"
     },
     "user_tz": -60
    },
    "id": "SxMCqgKU00jn",
    "outputId": "267edd63-76a2-4505-a219-c627d8cd408f"
   },
   "outputs": [
    {
     "data": {
      "text/plain": [
       "['content/drive/MyDrive/CW_Folder_UG/Models/hog-knn.joblib']"
      ]
     },
     "execution_count": 13,
     "metadata": {},
     "output_type": "execute_result"
    }
   ],
   "source": [
    "import joblib\n",
    "import os\n",
    "\n",
    "# create folder if it doesn't exist\n",
    "folder_path = os.path.join('content', 'drive', 'MyDrive', 'CW_Folder_UG', 'Models')\n",
    "if not os.path.exists(folder_path):\n",
    "    os.makedirs(folder_path)\n",
    "\n",
    "# save model in folder\n",
    "file_path = os.path.join(folder_path, 'hog-knn.joblib')\n",
    "joblib.dump(clf_knn, file_path)\n"
   ]
  },
  {
   "cell_type": "code",
   "execution_count": null,
   "metadata": {
    "id": "oN_UNAy1058g"
   },
   "outputs": [],
   "source": []
  }
 ],
 "metadata": {
  "colab": {
   "authorship_tag": "ABX9TyPXIRVvogz1byfvmmUQWYBk",
   "provenance": []
  },
  "kernelspec": {
   "display_name": "Python 3",
   "name": "python3"
  },
  "language_info": {
   "name": "python"
  }
 },
 "nbformat": 4,
 "nbformat_minor": 0
}
