{
 "cells": [
  {
   "cell_type": "code",
   "execution_count": null,
   "metadata": {
    "colab": {
     "base_uri": "https://localhost:8080/"
    },
    "executionInfo": {
     "elapsed": 19634,
     "status": "ok",
     "timestamp": 1682121576289,
     "user": {
      "displayName": "Mohamad Kanso",
      "userId": "06164785567516127542"
     },
     "user_tz": -60
    },
    "id": "Cm_UJnPhlz_s",
    "outputId": "4f26bff7-0365-4b01-bf4c-1501c4a6f477"
   },
   "outputs": [
    {
     "name": "stdout",
     "output_type": "stream",
     "text": [
      "Mounted at /content/drive/\n"
     ]
    }
   ],
   "source": [
    "from google.colab import drive\n",
    "drive.mount('/content/drive/')\n"
   ]
  },
  {
   "cell_type": "markdown",
   "metadata": {
    "id": "EmoCdGpkptjv"
   },
   "source": []
  },
  {
   "cell_type": "code",
   "execution_count": null,
   "metadata": {
    "id": "3NEXIUtr1taI"
   },
   "outputs": [],
   "source": [
    "import numpy as np\n",
    "import pandas as pd\n",
    "import matplotlib.pyplot as plt\n",
    "import cv2\n",
    "import os\n",
    "\n",
    "from sklearn.model_selection import train_test_split\n",
    "from sklearn.metrics import accuracy_score, precision_score, recall_score, f1_score, confusion_matrix\n",
    "from sklearn.svm import SVC\n",
    "from sklearn.neural_network import MLPClassifier\n",
    "from sklearn.pipeline import make_pipeline\n",
    "from sklearn.preprocessing import StandardScaler\n",
    "from skimage.feature import hog\n",
    "\n",
    "import torch\n",
    "import torch.nn as nn\n",
    "import torch.optim as optim\n",
    "from torch.utils.data import DataLoader, Dataset\n",
    "import torchvision.transforms as transforms\n",
    "\n",
    "from PIL import Image"
   ]
  },
  {
   "cell_type": "code",
   "execution_count": null,
   "metadata": {
    "colab": {
     "base_uri": "https://localhost:8080/"
    },
    "executionInfo": {
     "elapsed": 500988,
     "status": "ok",
     "timestamp": 1682122094344,
     "user": {
      "displayName": "Mohamad Kanso",
      "userId": "06164785567516127542"
     },
     "user_tz": -60
    },
    "id": "-k7M63twnd_-",
    "outputId": "03e18f86-81b4-4d4b-efca-0cb34ebc2684"
   },
   "outputs": [
    {
     "name": "stdout",
     "output_type": "stream",
     "text": [
      "Number of training images:  2394\n",
      "Number of training labels:  2394\n",
      "Number of testing images:  458\n",
      "Number of testing labels:  458\n",
      "Shape of X_train:  (2394, 224, 224, 3)\n",
      "Shape of y_train:  (2394,)\n",
      "Shape of X_test:  (458, 224, 224, 3)\n",
      "Shape of y_test:  (458,)\n",
      "Number of training images:  2394\n",
      "Number of training labels:  2394\n",
      "Number of testing images:  458\n",
      "Number of testing labels:  458\n"
     ]
    }
   ],
   "source": [
    "#8 MIN TO RUN\n",
    "def load_data():\n",
    "    # Load training images and labels\n",
    "    train_images = []\n",
    "    train_labels = []\n",
    "    train_dir = '/content/drive/MyDrive/CW_Folder_UG/CW_Dataset/train/images'\n",
    "    train_label_file = '/content/drive/MyDrive/CW_Folder_UG/CW_Dataset/train/labels'\n",
    "    for filename in os.listdir(train_dir):\n",
    "        img = Image.open(os.path.join(train_dir, filename))\n",
    "        img = img.resize((224, 224)) # Resize to a common size\n",
    "        img_arr = np.array(img)\n",
    "        train_images.append(img_arr)\n",
    "        \n",
    "        label_filename = os.path.splitext(filename)[0] + '.txt'\n",
    "        label_file_path = os.path.join(train_label_file, label_filename)\n",
    "        with open(label_file_path, 'r') as f:\n",
    "            text = f.read().strip()\n",
    "            # Map \"no_mask\" to 0, \"mask\" to 1, and \"improper_mask\" to 2\n",
    "            if text == \"1\":\n",
    "                label = 1\n",
    "            elif text == \"0\":\n",
    "                label = 0\n",
    "            elif text == \"2\":\n",
    "                label = 2\n",
    "            train_labels.append(label)\n",
    "\n",
    "    # Load testing images and labels\n",
    "    test_images = []\n",
    "    test_labels = []\n",
    "    test_dir = '/content/drive/MyDrive/CW_Folder_UG/CW_Dataset/test/images'\n",
    "    test_label_dir = '/content/drive/MyDrive/CW_Folder_UG/CW_Dataset/test/labels'\n",
    "    for filename in os.listdir(test_dir):\n",
    "        img = Image.open(os.path.join(test_dir, filename))\n",
    "        img = img.resize((224, 224)) # Resize to a common size\n",
    "        img_arr = np.array(img)\n",
    "        test_images.append(img_arr)\n",
    "        \n",
    "        label_filename = os.path.splitext(filename)[0] + '.txt'\n",
    "        label_file_path = os.path.join(test_label_dir, label_filename)\n",
    "        with open(label_file_path, 'r') as f:\n",
    "            text = f.read().strip()\n",
    "            # Map \"no_mask\" to 0, \"mask\" to 1, and \"improper_mask\" to 2\n",
    "            if text == \"1\":\n",
    "                label = 1\n",
    "            elif text == \"0\":\n",
    "                label = 0\n",
    "            elif text == \"2\":\n",
    "                label = 2\n",
    "            test_labels.append(label)\n",
    "\n",
    "    # Convert the lists to numpy arrays\n",
    "    train_images = np.array(train_images)\n",
    "    train_labels = np.array(train_labels)\n",
    "    test_images = np.array(test_images)\n",
    "    test_labels = np.array(test_labels)\n",
    "    \n",
    "    return train_images, test_images, train_labels, test_labels\n",
    "\n",
    "# Load the dataset\n",
    "X_train, X_test, y_train, y_test = load_data()\n",
    "\n",
    "print(\"Number of training images: \", len(X_train))\n",
    "print(\"Number of training labels: \", len(y_train))\n",
    "print(\"Number of testing images: \", len(X_test))\n",
    "print(\"Number of testing labels: \", len(y_test))\n",
    "\n",
    "print(\"Shape of X_train: \", X_train.shape)\n",
    "print(\"Shape of y_train: \", y_train.shape)\n",
    "print(\"Shape of X_test: \", X_test.shape)\n",
    "print(\"Shape of y_test: \", y_test.shape)\n",
    "\n",
    "# Print information about the dataset\n",
    "print(\"Number of training images: \", X_train.shape[0])\n",
    "print(\"Number of training labels: \", y_train.shape[0])\n",
    "print(\"Number of testing images: \", X_test.shape[0])\n",
    "print(\"Number of testing labels: \", y_test.shape[0])"
   ]
  },
  {
   "cell_type": "code",
   "execution_count": null,
   "metadata": {
    "colab": {
     "base_uri": "https://localhost:8080/"
    },
    "executionInfo": {
     "elapsed": 101813,
     "status": "ok",
     "timestamp": 1682124165456,
     "user": {
      "displayName": "Mohamad Kanso",
      "userId": "06164785567516127542"
     },
     "user_tz": -60
    },
    "id": "gJcx5xY2nhgY",
    "outputId": "b794f734-bf06-4b3e-dd4e-ce5ee76c1afa"
   },
   "outputs": [
    {
     "name": "stderr",
     "output_type": "stream",
     "text": [
      "<ipython-input-6-4f405d479f4d>:15: FutureWarning: `multichannel` is a deprecated argument name for `hog`. It will be removed in version 1.0. Please use `channel_axis` instead.\n",
      "  hog_feature = hog(image, orientations=8, pixels_per_cell=(16, 16), cells_per_block=(1, 1), visualize=False, multichannel=True, channel_axis=2)\n"
     ]
    },
    {
     "name": "stdout",
     "output_type": "stream",
     "text": [
      "Best hyperparameters: {'alpha': 0.01, 'hidden_layer_sizes': (50, 100, 50), 'learning_rate': 'constant'}\n",
      "Accuracy: 0.8624454148471615\n",
      "Precision: 0.8666134811331317\n",
      "Recall: 0.8624454148471615\n",
      "F1 score: 0.8604566219096814\n",
      "Confusion matrix:\n",
      " [[ 30  20   1]\n",
      " [ 28 359   1]\n",
      " [  2  11   6]]\n"
     ]
    }
   ],
   "source": [
    "# TIME == 1 MIN\n",
    "from skimage.feature import hog\n",
    "from sklearn.neural_network import MLPClassifier\n",
    "from sklearn.model_selection import GridSearchCV\n",
    "from sklearn.metrics import classification_report, confusion_matrix, accuracy_score\n",
    "from sklearn.preprocessing import StandardScaler\n",
    "\n",
    "# Define a function to extract HOG features from images\n",
    "def extract_hog_features(images):\n",
    "    hog_features = []\n",
    "    for image in images:\n",
    "        if image.ndim == 2:\n",
    "            hog_feature = hog(image, orientations=8, pixels_per_cell=(16, 16), cells_per_block=(1, 1), visualize=False)\n",
    "        else:\n",
    "            hog_feature = hog(image, orientations=8, pixels_per_cell=(16, 16), cells_per_block=(1, 1), visualize=False, multichannel=True, channel_axis=2)\n",
    "        hog_features.append(hog_feature)\n",
    "    return np.array(hog_features)\n",
    "\n",
    "\n",
    "# Extract HOG features from the training and testing images\n",
    "X_train_hog = extract_hog_features(X_train)\n",
    "X_test_hog = extract_hog_features(X_test)\n",
    "\n",
    "# Standardize the data\n",
    "scaler = StandardScaler()\n",
    "X_train_hog = scaler.fit_transform(X_train_hog)\n",
    "X_test_hog = scaler.transform(X_test_hog)\n",
    "\n",
    "# Define the parameter grid for hyperparameter tuning\n",
    "param_grid = {\n",
    "    'hidden_layer_sizes': [(100,), (50, 100, 50)], \n",
    "    'alpha': [0.0001, 0.001, 0.01],\n",
    "    'learning_rate': ['constant', 'adaptive']\n",
    "}\n",
    "\n",
    "# Train an MLP model with hyperparameter tuning\n",
    "mlp = MLPClassifier(max_iter=500, random_state=42, early_stopping=True)\n",
    "grid_search = GridSearchCV(mlp, param_grid=param_grid, cv=3, n_jobs=-1)\n",
    "grid_search.fit(X_train_hog, y_train)\n",
    "\n",
    "# Evaluate the best model on the testing set\n",
    "best_mlp = grid_search.best_estimator_\n",
    "y_pred = best_mlp.predict(X_test_hog)\n",
    "accuracy = accuracy_score(y_test, y_pred)\n",
    "precision = precision_score(y_test, y_pred, average='weighted')\n",
    "recall = recall_score(y_test, y_pred, average='weighted')\n",
    "f1 = f1_score(y_test, y_pred, average='weighted')\n",
    "conf_matrix = confusion_matrix(y_test, y_pred)\n",
    "\n",
    "print(\"Best hyperparameters:\", grid_search.best_params_)\n",
    "print(\"Accuracy:\", accuracy)\n",
    "print(\"Precision:\", precision)\n",
    "print(\"Recall:\", recall)\n",
    "print(\"F1 score:\", f1)\n",
    "print(\"Confusion matrix:\\n\", conf_matrix)\n"
   ]
  },
  {
   "cell_type": "code",
   "execution_count": null,
   "metadata": {
    "colab": {
     "base_uri": "https://localhost:8080/"
    },
    "executionInfo": {
     "elapsed": 495,
     "status": "ok",
     "timestamp": 1682095890482,
     "user": {
      "displayName": "Mohamad Kanso",
      "userId": "06164785567516127542"
     },
     "user_tz": -60
    },
    "id": "pqGT4eFdr6sY",
    "outputId": "14ba92a6-4af8-4d14-d69c-127bae31041c"
   },
   "outputs": [
    {
     "data": {
      "text/plain": [
       "['/content/drive/MyDrive/CW_Folder_UG/Models/hog-mlp.joblib']"
      ]
     },
     "execution_count": 6,
     "metadata": {},
     "output_type": "execute_result"
    }
   ],
   "source": [
    "import joblib\n",
    "import os\n",
    "\n",
    "# Define directory path to save the joblib file\n",
    "directory = '/content/drive/MyDrive/CW_Folder_UG/Models'\n",
    "\n",
    "# Create directory if it doesn't exist\n",
    "if not os.path.exists(directory):\n",
    "    os.makedirs(directory)\n",
    "\n",
    "# Define file path to save the joblib file\n",
    "filepath = os.path.join(directory, 'hog-mlp.joblib')\n",
    "\n",
    "# Dump the object to the joblib file\n",
    "joblib.dump(best_mlp, filepath)"
   ]
  },
  {
   "cell_type": "code",
   "execution_count": null,
   "metadata": {
    "colab": {
     "base_uri": "https://localhost:8080/"
    },
    "executionInfo": {
     "elapsed": 539,
     "status": "ok",
     "timestamp": 1682095979479,
     "user": {
      "displayName": "Mohamad Kanso",
      "userId": "06164785567516127542"
     },
     "user_tz": -60
    },
    "id": "hFPkzm3Qul0b",
    "outputId": "ce704f2d-da27-4c89-bc72-ef1d593244ac"
   },
   "outputs": [
    {
     "data": {
      "text/plain": [
       "['content/drive/MyDrive/CW_Folder_UG/Models/hog-mlp.joblib']"
      ]
     },
     "execution_count": 7,
     "metadata": {},
     "output_type": "execute_result"
    }
   ],
   "source": [
    "import joblib\n",
    "import os\n",
    "\n",
    "# create folder if it doesn't exist\n",
    "folder_path = os.path.join('content', 'drive', 'MyDrive', 'CW_Folder_UG', 'Models')\n",
    "if not os.path.exists(folder_path):\n",
    "    os.makedirs(folder_path)\n",
    "\n",
    "# save model in folder\n",
    "file_path = os.path.join(folder_path, 'hog-mlp.joblib')\n",
    "joblib.dump(best_mlp, file_path)\n",
    "\n"
   ]
  },
  {
   "cell_type": "code",
   "execution_count": null,
   "metadata": {
    "id": "odl9v70Bu7Uj"
   },
   "outputs": [],
   "source": []
  }
 ],
 "metadata": {
  "colab": {
   "authorship_tag": "ABX9TyN0DHxrOpXfgcV1tjLIogJ6",
   "provenance": []
  },
  "kernelspec": {
   "display_name": "Python 3",
   "name": "python3"
  },
  "language_info": {
   "name": "python"
  }
 },
 "nbformat": 4,
 "nbformat_minor": 0
}
