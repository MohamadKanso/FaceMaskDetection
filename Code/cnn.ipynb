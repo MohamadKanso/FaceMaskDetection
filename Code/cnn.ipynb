{
 "cells": [
  {
   "cell_type": "code",
   "execution_count": null,
   "metadata": {
    "colab": {
     "base_uri": "https://localhost:8080/"
    },
    "executionInfo": {
     "elapsed": 1845,
     "status": "ok",
     "timestamp": 1682111429841,
     "user": {
      "displayName": "Mohamad Kanso",
      "userId": "06164785567516127542"
     },
     "user_tz": -60
    },
    "id": "F3VLHWk-2sKL",
    "outputId": "a18ad86b-eae8-4dbb-e78a-dbb67c30b5c9"
   },
   "outputs": [
    {
     "name": "stdout",
     "output_type": "stream",
     "text": [
      "Drive already mounted at /content/drive/; to attempt to forcibly remount, call drive.mount(\"/content/drive/\", force_remount=True).\n"
     ]
    }
   ],
   "source": [
    " from google.colab import drive\n",
    "drive.mount('/content/drive/')"
   ]
  },
  {
   "cell_type": "code",
   "execution_count": null,
   "metadata": {
    "id": "I0JW-Oww3mNe"
   },
   "outputs": [],
   "source": [
    "import numpy as np\n",
    "import pandas as pd\n",
    "import matplotlib.pyplot as plt\n",
    "import cv2\n",
    "import os\n",
    "\n",
    "from sklearn.model_selection import train_test_split\n",
    "from sklearn.metrics import accuracy_score, precision_score, recall_score, f1_score, confusion_matrix\n",
    "from sklearn.svm import SVC\n",
    "from sklearn.neural_network import MLPClassifier\n",
    "from sklearn.pipeline import make_pipeline\n",
    "from sklearn.preprocessing import StandardScaler\n",
    "from skimage.feature import hog\n",
    "\n",
    "import torch\n",
    "import torch.nn as nn\n",
    "import torch.optim as optim\n",
    "from torch.utils.data import DataLoader, Dataset\n",
    "import torchvision.transforms as transforms\n",
    "\n",
    "from PIL import Image"
   ]
  },
  {
   "cell_type": "code",
   "execution_count": null,
   "metadata": {
    "colab": {
     "base_uri": "https://localhost:8080/"
    },
    "executionInfo": {
     "elapsed": 24969,
     "status": "ok",
     "timestamp": 1682111461183,
     "user": {
      "displayName": "Mohamad Kanso",
      "userId": "06164785567516127542"
     },
     "user_tz": -60
    },
    "id": "He0qKStr4cf1",
    "outputId": "54cf04a2-f365-421e-c3dd-e5c9c0711d26"
   },
   "outputs": [
    {
     "name": "stdout",
     "output_type": "stream",
     "text": [
      "Number of training images:  2394\n",
      "Number of training labels:  2394\n",
      "Number of testing images:  458\n",
      "Number of testing labels:  458\n",
      "Shape of X_train:  (2394, 224, 224, 3)\n",
      "Shape of y_train:  (2394,)\n",
      "Shape of X_test:  (458, 224, 224, 3)\n",
      "Shape of y_test:  (458,)\n",
      "Number of training images:  2394\n",
      "Number of training labels:  2394\n",
      "Number of testing images:  458\n",
      "Number of testing labels:  458\n"
     ]
    }
   ],
   "source": [
    "#8 MIN TO RUN\n",
    "def load_data():\n",
    "    # Load training images and labels\n",
    "    train_images = []\n",
    "    train_labels = []\n",
    "    train_dir = '/content/drive/MyDrive/CW_Folder_UG/CW_Dataset/train/images'\n",
    "    train_label_file = '/content/drive/MyDrive/CW_Folder_UG/CW_Dataset/train/labels'\n",
    "    for filename in os.listdir(train_dir):\n",
    "        img = Image.open(os.path.join(train_dir, filename))\n",
    "        img = img.resize((224, 224)) # Resize to a common size\n",
    "        img_arr = np.array(img)\n",
    "        train_images.append(img_arr)\n",
    "\n",
    "        label_filename = os.path.splitext(filename)[0] + '.txt'\n",
    "        label_file_path = os.path.join(train_label_file, label_filename)\n",
    "        with open(label_file_path, 'r') as f:\n",
    "            text = f.read().strip()\n",
    "            # Map \"no_mask\" to 0, \"mask\" to 1, and \"improper_mask\" to 2\n",
    "            if text == \"1\":\n",
    "                label = 1\n",
    "            elif text == \"0\":\n",
    "                label = 0\n",
    "            elif text == \"2\":\n",
    "                label = 2\n",
    "            train_labels.append(label)\n",
    "\n",
    "    # Load testing images and labels\n",
    "    test_images = []\n",
    "    test_labels = []\n",
    "    test_dir = '/content/drive/MyDrive/CW_Folder_UG/CW_Dataset/test/images'\n",
    "    test_label_dir = '/content/drive/MyDrive/CW_Folder_UG/CW_Dataset/test/labels'\n",
    "    for filename in os.listdir(test_dir):\n",
    "        img = Image.open(os.path.join(test_dir, filename))\n",
    "        img = img.resize((224, 224)) # Resize to a common size\n",
    "        img_arr = np.array(img)\n",
    "        test_images.append(img_arr)\n",
    "\n",
    "        label_filename = os.path.splitext(filename)[0] + '.txt'\n",
    "        label_file_path = os.path.join(test_label_dir, label_filename)\n",
    "        with open(label_file_path, 'r') as f:\n",
    "            text = f.read().strip()\n",
    "            # Map \"no_mask\" to 0, \"mask\" to 1, and \"improper_mask\" to 2\n",
    "            if text == \"1\":\n",
    "                label = 1\n",
    "            elif text == \"0\":\n",
    "                label = 0\n",
    "            elif text == \"2\":\n",
    "                label = 2\n",
    "            test_labels.append(label)\n",
    "\n",
    "    # Convert the lists to numpy arrays\n",
    "    train_images = np.array(train_images)\n",
    "    train_labels = np.array(train_labels)\n",
    "    test_images = np.array(test_images)\n",
    "    test_labels = np.array(test_labels)\n",
    "\n",
    "    return train_images, test_images, train_labels, test_labels\n",
    "\n",
    "# Load the dataset\n",
    "X_train, X_test, y_train, y_test = load_data()\n",
    "\n",
    "print(\"Number of training images: \", len(X_train))\n",
    "print(\"Number of training labels: \", len(y_train))\n",
    "print(\"Number of testing images: \", len(X_test))\n",
    "print(\"Number of testing labels: \", len(y_test))\n",
    "\n",
    "print(\"Shape of X_train: \", X_train.shape)\n",
    "print(\"Shape of y_train: \", y_train.shape)\n",
    "print(\"Shape of X_test: \", X_test.shape)\n",
    "print(\"Shape of y_test: \", y_test.shape)\n",
    "\n",
    "# Print information about the dataset\n",
    "print(\"Number of training images: \", X_train.shape[0])\n",
    "print(\"Number of training labels: \", y_train.shape[0])\n",
    "print(\"Number of testing images: \", X_test.shape[0])\n",
    "print(\"Number of testing labels: \", y_test.shape[0])"
   ]
  },
  {
   "cell_type": "code",
   "execution_count": null,
   "metadata": {
    "colab": {
     "base_uri": "https://localhost:8080/"
    },
    "executionInfo": {
     "elapsed": 1326754,
     "status": "ok",
     "timestamp": 1682112794380,
     "user": {
      "displayName": "Mohamad Kanso",
      "userId": "06164785567516127542"
     },
     "user_tz": -60
    },
    "id": "i21WfwIK4e0z",
    "outputId": "0a86c78d-df4f-4480-99d7-303da834b5b3"
   },
   "outputs": [
    {
     "name": "stdout",
     "output_type": "stream",
     "text": [
      "Epoch 1/10\n",
      "75/75 [==============================] - 125s 2s/step - loss: 0.4862 - accuracy: 0.8634 - val_loss: 0.2597 - val_accuracy: 0.9236\n",
      "Epoch 2/10\n",
      "75/75 [==============================] - 126s 2s/step - loss: 0.2208 - accuracy: 0.9336 - val_loss: 0.2238 - val_accuracy: 0.9214\n",
      "Epoch 3/10\n",
      "75/75 [==============================] - 125s 2s/step - loss: 0.2073 - accuracy: 0.9361 - val_loss: 0.1815 - val_accuracy: 0.9279\n",
      "Epoch 4/10\n",
      "75/75 [==============================] - 125s 2s/step - loss: 0.1860 - accuracy: 0.9407 - val_loss: 0.1852 - val_accuracy: 0.9279\n",
      "Epoch 5/10\n",
      "75/75 [==============================] - 128s 2s/step - loss: 0.1613 - accuracy: 0.9449 - val_loss: 0.2025 - val_accuracy: 0.9323\n",
      "Epoch 6/10\n",
      "75/75 [==============================] - 127s 2s/step - loss: 0.1481 - accuracy: 0.9532 - val_loss: 0.1872 - val_accuracy: 0.9279\n",
      "Epoch 7/10\n",
      "75/75 [==============================] - 125s 2s/step - loss: 0.1502 - accuracy: 0.9495 - val_loss: 0.1858 - val_accuracy: 0.9410\n",
      "Epoch 8/10\n",
      "75/75 [==============================] - 126s 2s/step - loss: 0.1317 - accuracy: 0.9557 - val_loss: 0.1706 - val_accuracy: 0.9367\n",
      "Epoch 9/10\n",
      "75/75 [==============================] - 124s 2s/step - loss: 0.1141 - accuracy: 0.9595 - val_loss: 0.2289 - val_accuracy: 0.9345\n",
      "Epoch 10/10\n",
      "75/75 [==============================] - 127s 2s/step - loss: 0.1160 - accuracy: 0.9561 - val_loss: 0.1802 - val_accuracy: 0.9323\n",
      "15/15 - 5s - loss: 0.1802 - accuracy: 0.9323 - 5s/epoch - 366ms/step\n",
      "\n",
      "Test accuracy: 0.932314395904541\n",
      "15/15 [==============================] - 6s 376ms/step\n",
      "\n",
      "F1 Score:  0.922842619136085\n",
      "Recall:  0.9323144104803494\n",
      "Precision:  0.916229441058085\n",
      "Confusion Matrix:\n",
      " [[ 47   3   1]\n",
      " [  5 378   5]\n",
      " [  3  14   2]]\n"
     ]
    }
   ],
   "source": [
    "# 12 MIN to run\n",
    "import numpy as np\n",
    "import tensorflow as tf\n",
    "from tensorflow.keras import layers, models\n",
    "from sklearn.metrics import f1_score, recall_score, precision_score, confusion_matrix\n",
    "\n",
    "# Normalize the data\n",
    "X_train_normalized = X_train / 255.0\n",
    "X_test_normalized = X_test / 255.0\n",
    "\n",
    "# One-hot encode the labels\n",
    "y_train_one_hot = tf.keras.utils.to_categorical(y_train, num_classes=3)\n",
    "y_test_one_hot = tf.keras.utils.to_categorical(y_test, num_classes=3)\n",
    "\n",
    "# Create the CNN model with reduced capacity\n",
    "model = models.Sequential()\n",
    "model.add(layers.Conv2D(16, (3, 3), activation='relu', input_shape=(224, 224, 3)))\n",
    "model.add(layers.MaxPooling2D((2, 2)))\n",
    "model.add(layers.Conv2D(32, (3, 3), activation='relu'))\n",
    "model.add(layers.MaxPooling2D((2, 2)))\n",
    "model.add(layers.Conv2D(32, (3, 3), activation='relu'))\n",
    "\n",
    "model.add(layers.Flatten())\n",
    "model.add(layers.Dense(32, activation='relu'))\n",
    "model.add(layers.Dense(3, activation='softmax'))\n",
    "\n",
    "# Compile the model\n",
    "model.compile(optimizer='adam',\n",
    "              loss=tf.keras.losses.CategoricalCrossentropy(),\n",
    "              metrics=['accuracy'])\n",
    "\n",
    "# Train the model with reduced batch size\n",
    "history = model.fit(X_train_normalized, y_train_one_hot, epochs=10, batch_size=32, validation_data=(X_test_normalized, y_test_one_hot))\n",
    "\n",
    "# Evaluate the model\n",
    "test_loss, test_acc = model.evaluate(X_test_normalized, y_test_one_hot, verbose=2)\n",
    "print('\\nTest accuracy:', test_acc)\n",
    "\n",
    "# Calculate F1 score, recall, precision, and confusion matrix\n",
    "y_pred = np.argmax(model.predict(X_test_normalized), axis=-1)\n",
    "f1 = f1_score(y_test, y_pred, average='weighted')\n",
    "recall = recall_score(y_test, y_pred, average='weighted')\n",
    "precision = precision_score(y_test, y_pred, average='weighted')\n",
    "conf_matrix = confusion_matrix(y_test, y_pred)\n",
    "\n",
    "print(\"\\nF1 Score: \", f1)\n",
    "print(\"Recall: \", recall)\n",
    "print(\"Precision: \", precision)\n",
    "print(\"Confusion Matrix:\\n\", conf_matrix)"
   ]
  },
  {
   "cell_type": "code",
   "execution_count": null,
   "metadata": {
    "colab": {
     "base_uri": "https://localhost:8080/"
    },
    "executionInfo": {
     "elapsed": 1152,
     "status": "ok",
     "timestamp": 1682113086325,
     "user": {
      "displayName": "Mohamad Kanso",
      "userId": "06164785567516127542"
     },
     "user_tz": -60
    },
    "id": "8gsOsZvX49GU",
    "outputId": "1ba4c268-64f7-46a7-dea5-39507afb204f"
   },
   "outputs": [
    {
     "data": {
      "text/plain": [
       "['/content/drive/MyDrive/CW_Folder_UG/Models/cnn.joblib']"
      ]
     },
     "execution_count": 9,
     "metadata": {},
     "output_type": "execute_result"
    }
   ],
   "source": [
    "import joblib\n",
    "import os\n",
    "\n",
    "# Define directory path to save the joblib file\n",
    "directory = '/content/drive/MyDrive/CW_Folder_UG/Models'\n",
    "\n",
    "# Create directory if it doesn't exist\n",
    "if not os.path.exists(directory):\n",
    "    os.makedirs(directory)\n",
    "\n",
    "# Define file path to save the joblib file\n",
    "filepath = os.path.join(directory, 'cnn.joblib')\n",
    "\n",
    "# Dump the object to the joblib file\n",
    "joblib.dump(model, filepath)"
   ]
  },
  {
   "cell_type": "code",
   "execution_count": null,
   "metadata": {
    "colab": {
     "base_uri": "https://localhost:8080/"
    },
    "executionInfo": {
     "elapsed": 315,
     "status": "ok",
     "timestamp": 1682113086632,
     "user": {
      "displayName": "Mohamad Kanso",
      "userId": "06164785567516127542"
     },
     "user_tz": -60
    },
    "id": "Jh1PmvGX5CTm",
    "outputId": "67ac284a-8293-4581-9d5a-ab86d5b77b29"
   },
   "outputs": [
    {
     "data": {
      "text/plain": [
       "['content/drive/MyDrive/CW_Folder_UG/Models/cnn.joblib']"
      ]
     },
     "execution_count": 10,
     "metadata": {},
     "output_type": "execute_result"
    }
   ],
   "source": [
    "import joblib\n",
    "import os\n",
    "\n",
    "# create folder if it doesn't exist\n",
    "folder_path = os.path.join('content', 'drive', 'MyDrive', 'CW_Folder_UG', 'Models')\n",
    "if not os.path.exists(folder_path):\n",
    "    os.makedirs(folder_path)\n",
    "\n",
    "# save model in folder\n",
    "file_path = os.path.join(folder_path, 'cnn.joblib')\n",
    "joblib.dump(model, file_path)\n"
   ]
  },
  {
   "cell_type": "code",
   "execution_count": null,
   "metadata": {
    "id": "e8ztv16p5F3G"
   },
   "outputs": [],
   "source": []
  }
 ],
 "metadata": {
  "colab": {
   "provenance": []
  },
  "kernelspec": {
   "display_name": "Python 3",
   "name": "python3"
  },
  "language_info": {
   "name": "python"
  }
 },
 "nbformat": 4,
 "nbformat_minor": 0
}
